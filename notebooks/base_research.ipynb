{
 "cells": [
  {
   "cell_type": "code",
   "execution_count": 1,
   "id": "00a352ad",
   "metadata": {},
   "outputs": [],
   "source": [
    "import os\n",
    "os.chdir('C:/projects/itmo/higher_education_analyzer/')"
   ]
  },
  {
   "cell_type": "code",
   "execution_count": 2,
   "id": "b9e6de09",
   "metadata": {},
   "outputs": [],
   "source": [
    "import pandas, json\n",
    "import pprint\n",
    "import sklearn\n",
    "import seaborn\n",
    "import numpy"
   ]
  },
  {
   "cell_type": "code",
   "execution_count": null,
   "id": "b713da0f",
   "metadata": {},
   "outputs": [],
   "source": []
  }
 ],
 "metadata": {
  "kernelspec": {
   "display_name": "Python 3 (ipykernel)",
   "language": "python",
   "name": "python3"
  },
  "language_info": {
   "codemirror_mode": {
    "name": "ipython",
    "version": 3
   },
   "file_extension": ".py",
   "mimetype": "text/x-python",
   "name": "python",
   "nbconvert_exporter": "python",
   "pygments_lexer": "ipython3",
   "version": "3.10.5"
  }
 },
 "nbformat": 4,
 "nbformat_minor": 5
}
