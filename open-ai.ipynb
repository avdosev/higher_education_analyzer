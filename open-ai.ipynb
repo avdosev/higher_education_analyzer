{
 "cells": [
  {
   "cell_type": "code",
   "execution_count": 1,
   "id": "b3003dff",
   "metadata": {},
   "outputs": [],
   "source": [
    "import openai\n",
    "import os\n",
    "import os.path\n",
    "import json"
   ]
  },
  {
   "cell_type": "code",
   "execution_count": 4,
   "id": "9adfc217",
   "metadata": {},
   "outputs": [],
   "source": [
    "openai.api_key_path = \"sensitive_data/openai_api_key.txt\""
   ]
  },
  {
   "cell_type": "code",
   "execution_count": 27,
   "id": "358bdb98",
   "metadata": {},
   "outputs": [],
   "source": [
    "def get_answer(query, context=[]):\n",
    "    model_engine = \"gpt-3.5-turbo\"\n",
    "    completion = openai.ChatCompletion.create(\n",
    "        model=model_engine, \n",
    "        messages=[\n",
    "            *context,\n",
    "            {\"role\": \"user\", \"content\": query}\n",
    "        ],\n",
    "        n=1)\n",
    "    message = completion.choices[0].message.content\n",
    "    return message"
   ]
  },
  {
   "cell_type": "code",
   "execution_count": 31,
   "id": "089be050",
   "metadata": {},
   "outputs": [],
   "source": [
    "def simple_context(text):\n",
    "    return [{'role': 'assistant', 'content': text}]"
   ]
  },
  {
   "cell_type": "code",
   "execution_count": 26,
   "id": "f56d113a",
   "metadata": {},
   "outputs": [],
   "source": [
    "skill_name = 'ассемблер x86'"
   ]
  },
  {
   "cell_type": "code",
   "execution_count": 24,
   "id": "b6f6fdea",
   "metadata": {},
   "outputs": [],
   "source": [
    "plan = get_answer(f'Придумай план обучения навыку \"{skill_name}\". Оформи нумерованые пункты и начинай либо с \"изучение\", либо \"практика\".')"
   ]
  },
  {
   "cell_type": "code",
   "execution_count": 25,
   "id": "77a31ef0",
   "metadata": {},
   "outputs": [
    {
     "name": "stdout",
     "output_type": "stream",
     "text": [
      "\n",
      "\n",
      "1. Изучение основных концепций ассемблера x86, таких как команды, регистры и адресация.\n",
      "2. Практика написания простых программ на ассемблере x86 с использованием одно- и двухбайтных команд.\n",
      "3. Изучение инструкций передачи управления и создание программ, использующих условные операторы и циклы.\n",
      "4. Практика написания программ, использующих процедуры и макросы для повторного использования кода.\n",
      "5. Изучение работы операционной системы, в частности, вызов системных функций через соответствующие прерывания.\n",
      "6. Практика создания программ, взаимодействующих с операционной системой, например, работа с файлами, сокетами и устройствами.\n",
      "7. Изучение специфических возможностей ассемблера x86, таких как арифметические операции с плавающей запятой и SIMD (Single Instruction Multiple Data).\n",
      "8. Практика создания производительных и оптимизированных программ, использующих специфические возможности ассемблера x86.\n",
      "9. Изучение способов отладки программ на ассемблере x86.\n",
      "10. Практическое применение полученных знаний и навыков в реальных проектах.\n"
     ]
    }
   ],
   "source": [
    "print(plan)"
   ]
  },
  {
   "cell_type": "code",
   "execution_count": 29,
   "id": "40409f50",
   "metadata": {},
   "outputs": [],
   "source": [
    "recomended_books =  get_answer(f'Какую литературу ты можешь предложить для этого плана обучения?', context=[{'role': 'assistant', 'content': plan}])"
   ]
  },
  {
   "cell_type": "code",
   "execution_count": 30,
   "id": "d0ec9909",
   "metadata": {},
   "outputs": [
    {
     "name": "stdout",
     "output_type": "stream",
     "text": [
      "Я могу порекомендовать следующую литературу для обучения ассемблеру x86:\n",
      "\n",
      "1. \"Assembly Language for x86 Processors\" by Kip R. Irvine\n",
      "2. \"The Art of Assembly Language\" by Randall Hyde\n",
      "3. \"Programming from the Ground Up\" by Jonathan Bartlett\n",
      "4. \"Professional Assembly Language\" by Richard Blum\n",
      "5. \"x86 Assembly Language and C Fundamentals\" by Joseph Cavanagh\n",
      "\n",
      "Эти книги предоставляют обширные знания по программированию на ассемблере x86 и подходят для широкого спектра уровней опыта. Кроме того, многие материалы для обучения доступны в Интернете, включая документацию и учебные ресурсы.\n"
     ]
    }
   ],
   "source": [
    "print(recomended_books)"
   ]
  },
  {
   "cell_type": "code",
   "execution_count": 37,
   "id": "66e59c5e",
   "metadata": {},
   "outputs": [],
   "source": [
    "def generate_theoretical_material(item):\n",
    "    item = item.replace('Ознакомление', 'создай теоретический материал')\n",
    "    item = item.replace('Изучение', 'расскажи о')\n",
    "    \n",
    "    theory = get_answer(item)\n",
    "    example = get_answer('Приведи несколько практических примеров и объясни', context=simple_context(theory))\n",
    "    return theory, example"
   ]
  },
  {
   "cell_type": "code",
   "execution_count": 38,
   "id": "cdbf22b1",
   "metadata": {},
   "outputs": [],
   "source": [
    "theory, example = generate_theoretical_material('Изучение основных концепций ассемблера x86, таких как команды, регистры и адресация')"
   ]
  },
  {
   "cell_type": "code",
   "execution_count": 39,
   "id": "2cb87abb",
   "metadata": {},
   "outputs": [
    {
     "name": "stdout",
     "output_type": "stream",
     "text": [
      "\n",
      "\n",
      "Ассемблер x86 - это набор команд, регистров и методов адресации, которые используются для написания программ и операционных систем для архитектуры x86, которая широко используется в современных компьютерах на базе процессоров Intel или AMD.\n",
      "\n",
      "Команды - это инструкции, которые выполняют операции с данными, такие как перемещение, сложение, вычитание, умножение и деление. Команды x86 имеют различные форматы, включая форматы одно-, двух- и трехоперандных команд.\n",
      "\n",
      "Регистры - это небольшие области памяти в процессоре, которые используются для хранения данных, адресов и других значений. Регистры x86 могут быть общего назначения, такие как регистр AX или регистр BX, или специализированные регистры для управления состоянием процессора, такие как регистр флагов.\n",
      "\n",
      "Адресация - это способ указания места хранения данных, которые используются в командах. В x86 есть несколько методов адресации, включая адресацию регистров, адресацию непосредственной операции, адресацию косвенную и адресацию с индексом и масштабом.\n",
      "\n",
      "Благодаря быстрой и эффективной архитектуре процессоров x86 и богатому набору команд, ассемблер x86 остается популярным средством для создания низкоуровневых программ и операционных систем. Однако, из-за сложности и необходимости знания внутренней архитектуры процессоров для эффективного использования, он становится все менее популярным среди разработчиков приложений высокого уровня.\n"
     ]
    }
   ],
   "source": [
    "print(theory)"
   ]
  },
  {
   "cell_type": "code",
   "execution_count": 40,
   "id": "49bf2920",
   "metadata": {},
   "outputs": [
    {
     "name": "stdout",
     "output_type": "stream",
     "text": [
      "Примеры применения ассемблера x86 включают:\n",
      "\n",
      "1. Создание операционных систем: Операционные системы Windows, Linux и MacOS написаны на C и C++, но содержат некоторый код на ассемблере x86 для работы с железом компьютера, например, для управления драйверами устройств.\n",
      "\n",
      "2. Создание драйверов устройств: Драйверы устройств, которые предоставляют программный интерфейс для управления оборудованием компьютера, часто требуют написания части кода на языке ассемблера x86 для непосредственного взаимодействия с железом.\n",
      "\n",
      "3. Оптимизация кода: Ассемблер x86 может использоваться для оптимизации кода высокого уровня, написанного на языках программирования, таких как C или C++. Программист может написать код на ассемблере x86 для выполнения критических участков программы или улучшения производительности.\n",
      "\n",
      "4. Создание интенсивного процессинга: Некоторые задачи, такие как обработка аудио или видео, требуют высокой вычислительной мощности. Ассемблер x86 может использоваться для создания оптимизированных алгоритмов обработки сигналов и уменьшения времени выполнения.\n",
      "\n",
      "5. Создание встроенных систем: Высокая производительность и низкий уровень энергопотребления являются ключевыми характеристиками встроенных систем. Ассемблер x86 может использоваться для разработки компактного и быстрого кода для таког\n"
     ]
    }
   ],
   "source": [
    "print(example)"
   ]
  },
  {
   "cell_type": "code",
   "execution_count": null,
   "id": "5fd9d2d0",
   "metadata": {},
   "outputs": [],
   "source": [
    "def generate_practical_material(item):\n",
    "    item = item.replace('Практика', 'сгенерируй 10 заданий о')\n",
    "    \n",
    "    practical = get_answer(item)\n",
    "    example = get_answer('приведи пример решения одного из заданий', context=simple_context(theory))\n",
    "    return practical, example"
   ]
  }
 ],
 "metadata": {
  "kernelspec": {
   "display_name": "Python 3 (ipykernel)",
   "language": "python",
   "name": "python3"
  },
  "language_info": {
   "codemirror_mode": {
    "name": "ipython",
    "version": 3
   },
   "file_extension": ".py",
   "mimetype": "text/x-python",
   "name": "python",
   "nbconvert_exporter": "python",
   "pygments_lexer": "ipython3",
   "version": "3.10.5"
  }
 },
 "nbformat": 4,
 "nbformat_minor": 5
}
